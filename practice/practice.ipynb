{
 "cells": [
  {
   "cell_type": "code",
   "execution_count": 10,
   "metadata": {},
   "outputs": [],
   "source": [
    "\"\"\"Matrix decomposition is a technique used in linear algebra to break down a matrix into simpler components to facilitate various computations and analyses. Numpy, a popular Python library for numerical computations, provides functions to perform matrix decomposition. Here are some common matrix decomposition techniques using Numpy:\n",
    "\n",
    "1. **LU Decomposition**:\n",
    "   LU decomposition breaks down a matrix into the product of a lower triangular matrix (L) and an upper triangular matrix (U).\n",
    "\n",
    "   ```python\n",
    "   import numpy as np\n",
    "\n",
    "   A = np.array([[4, 3, 2], [8, 8, 7], [6, 6, 9]])\n",
    "   P, L, U = scipy.linalg.lu(A)\n",
    "   ```\n",
    "\n",
    "2. **QR Decomposition**:\n",
    "   QR decomposition breaks a matrix into the product of an orthogonal matrix (Q) and an upper triangular matrix (R).\n",
    "\n",
    "   ```python\n",
    "   import numpy as np\n",
    "\n",
    "   A = np.array([[4, 3], [2, 1]])\n",
    "   Q, R = np.linalg.qr(A)\n",
    "   ```\n",
    "\n",
    "3. **Singular Value Decomposition (SVD)**:\n",
    "   SVD breaks a matrix into three other matrices: U, Σ (Sigma), and V^T (V transpose).\n",
    "\n",
    "   ```python\n",
    "   import numpy as np\n",
    "\n",
    "   A = np.array([[1, 2], [3, 4], [5, 6]])\n",
    "   U, S, VT = np.linalg.svd(A)\n",
    "   ```\n",
    "\n",
    "4. **Eigenvalue Decomposition**:\n",
    "   Eigenvalue decomposition decomposes a square matrix A into a matrix of eigenvectors (V) and a diagonal matrix (D) of eigenvalues.\n",
    "\n",
    "   ```python\n",
    "   import numpy as np\n",
    "\n",
    "   A = np.array([[1, 2], [2, 3]])\n",
    "   eigenvalues, eigenvectors = np.linalg.eig(A)\n",
    "   ```\n",
    "\n",
    "5. **Cholesky Decomposition**:\n",
    "   Cholesky decomposition decomposes a positive-definite symmetric matrix into the product of a lower triangular matrix and its transpose.\n",
    "\n",
    "   ```python\n",
    "   import numpy as np\n",
    "\n",
    "   A = np.array([[16, 4], [4, 10]])\n",
    "   L = np.linalg.cholesky(A)\n",
    "   ```\n",
    "\n",
    "These are some of the most common matrix decomposition techniques in Numpy. Depending on your specific problem or matrix, you may choose the most appropriate decomposition method. These decompositions are useful for solving systems of linear equations, eigenvalue problems, and many other numerical tasks in linear algebra and data analysis.\"\"\""
   ]
  },
  {
   "cell_type": "markdown",
   "metadata": {},
   "source": [
    "LU decomposition"
   ]
  },
  {
   "cell_type": "code",
   "execution_count": 4,
   "metadata": {},
   "outputs": [],
   "source": [
    "import numpy as np\n",
    "import scipy\n",
    "A = np.array([[4,3,2],[8,8,7],[6,6,9]])\n",
    "P, L, U = scipy.linalg.lu(A)"
   ]
  },
  {
   "cell_type": "markdown",
   "metadata": {},
   "source": [
    "QR decomposition"
   ]
  },
  {
   "cell_type": "code",
   "execution_count": 3,
   "metadata": {},
   "outputs": [],
   "source": [
    "import numpy as np\n",
    "A=np.array([[4,3],[2,1]])\n",
    "Q,R =np.linalg.qr(A)"
   ]
  },
  {
   "cell_type": "markdown",
   "metadata": {},
   "source": [
    "singular value decomposition"
   ]
  },
  {
   "cell_type": "code",
   "execution_count": 2,
   "metadata": {},
   "outputs": [],
   "source": [
    "import numpy as np\n",
    "A =np.array([[1,2],[3,4],[4,5]])\n",
    "U, S, VT = np.linalg.svd(A)"
   ]
  },
  {
   "cell_type": "markdown",
   "metadata": {},
   "source": [
    "Eigenvalue decomposition"
   ]
  },
  {
   "cell_type": "code",
   "execution_count": 1,
   "metadata": {},
   "outputs": [],
   "source": [
    "import numpy as np\n",
    "A=np.array([[1,3],[2,3]])\n",
    "eigenvalues, eigenvectors = np.linalg.eig(A)\n"
   ]
  },
  {
   "cell_type": "markdown",
   "metadata": {},
   "source": [
    "Cholesky decomposition"
   ]
  },
  {
   "cell_type": "code",
   "execution_count": 21,
   "metadata": {},
   "outputs": [],
   "source": [
    "import numpy as np\n",
    "A=np.array([[16,4],[4,10]])\n",
    "L= np.linalg.cholesky(A)"
   ]
  },
  {
   "cell_type": "markdown",
   "metadata": {},
   "source": [
    "GROUP SIX\n",
    "NAMALWA MILLIA 2023/DCSE/0070/SS\n",
    "ADOKORACH NANSY 2023/DCSE/004/SS\n",
    "BAANDA GLORIA"
   ]
  }
 ],
 "metadata": {
  "kernelspec": {
   "display_name": "Python 3",
   "language": "python",
   "name": "python3"
  },
  "language_info": {
   "codemirror_mode": {
    "name": "ipython",
    "version": 3
   },
   "file_extension": ".py",
   "mimetype": "text/x-python",
   "name": "python",
   "nbconvert_exporter": "python",
   "pygments_lexer": "ipython3",
   "version": "3.11.5"
  }
 },
 "nbformat": 4,
 "nbformat_minor": 2
}
